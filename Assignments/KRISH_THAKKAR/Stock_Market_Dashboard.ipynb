{
 "cells": [
  {
   "cell_type": "code",
   "execution_count": 46,
   "metadata": {},
   "outputs": [],
   "source": [
    "import pandas as pd\n",
    "import numpy as np\n",
    "from dash import Dash, dcc, Input, Output, callback, html\n",
    "import plotly.express as px\n",
    "import yfinance as yf\n",
    "import plotly.graph_objects as go\n",
    "\n"
   ]
  },
  {
   "cell_type": "code",
   "execution_count": 47,
   "metadata": {},
   "outputs": [],
   "source": [
    "app = Dash()"
   ]
  },
  {
   "cell_type": "code",
   "execution_count": 48,
   "metadata": {},
   "outputs": [],
   "source": [
    "app.layout = html.Div([\n",
    "\n",
    "    html.H1(children='Stock Tracker', style={'textAlign':\"center\"}),\n",
    "\n",
    "    html.Div([\n",
    "        html.Label('Enter Stock Symbol (e.g. AAPL):'),\n",
    "        dcc.Input(id='stock-input', type='text', value='AAPL')\n",
    "    ], style={'margin': '20px'}),\n",
    "\n",
    "    html.Div([\n",
    "        html.Label(\"Select number of days:\"),\n",
    "        dcc.Slider(1,5,1, value=2, id=\"day-slider\")\n",
    "    ], style={'margin': '20px'}),\n",
    "\n",
    "    dcc.Graph(id='candlestick-chart'),\n",
    "    dcc.Graph(id='volume-chart')\n",
    "\n",
    "])"
   ]
  },
  {
   "cell_type": "code",
   "execution_count": 49,
   "metadata": {},
   "outputs": [],
   "source": [
    "@callback(\n",
    "    Output('candlestick-chart', 'figure'),\n",
    "    Output('volume-chart', 'figure'),\n",
    "    Input('stock-input', 'value'),\n",
    "    Input('day-slider', 'value')\n",
    ")\n",
    "def update_stock_chart(ticker, days):\n",
    "    # Download minute-by-minute stock data from Yahoo Finance\n",
    "    period = f'{days}d'\n",
    "    interval = '1m'\n",
    "    try:\n",
    "        df = yf.download(tickers=ticker, period=period, interval=interval)\n",
    "    except Exception:\n",
    "        return px.line(title=\"Error loading data\"), px.bar(title=\"Volume Unavailable\")\n",
    "\n",
    "    if df.empty:\n",
    "        return px.line(title=\"No Data Found\"), px.bar(title=\"No Volume Data\")\n",
    "\n",
    "    print(df.head)\n",
    "\n",
    "    df.reset_index(inplace=True)  # Convert datetime to column\n",
    "\n",
    "    # Moving Averages (on Close price)\n",
    "    df['MA_30'] = df['Close'].rolling(window=30).mean()\n",
    "    df['MA_200'] = df['Close'].rolling(window=200).mean()\n",
    "\n",
    "    # Candlestick + Moving Averages\n",
    "    fig_price = go.Figure()\n",
    "\n",
    "    # Candlestick trace\n",
    "    fig_price.add_trace(go.Candlestick(\n",
    "        x=df['Datetime'],\n",
    "        open=df['Open'],\n",
    "        high=df['High'],\n",
    "        low=df['Low'],\n",
    "        close=df['Close'],\n",
    "        name='Candlestick'\n",
    "    ))\n",
    "\n",
    "    # 30-min MA\n",
    "    fig_price.add_trace(go.Scatter(\n",
    "        x=df['Datetime'],\n",
    "        y=df['MA_30'],\n",
    "        mode='lines',\n",
    "        name='30-min MA',\n",
    "        line=dict(color='blue')\n",
    "    ))\n",
    "\n",
    "    # 200-min MA\n",
    "    fig_price.add_trace(go.Scatter(\n",
    "        x=df['Datetime'],\n",
    "        y=df['MA_200'],\n",
    "        mode='lines',\n",
    "        name='200-min MA',\n",
    "        line=dict(color='red')\n",
    "    ))\n",
    "\n",
    "    fig_price.update_layout(\n",
    "        title=f'{ticker.upper()} Candlestick Chart with Moving Averages ({days} Day{\"s\" if days > 1 else \"\"})',\n",
    "        xaxis_title='Time',\n",
    "        yaxis_title='Price (USD)',\n",
    "        xaxis_rangeslider_visible=False,\n",
    "        plot_bgcolor='white',\n",
    "        legend_title='Legend'\n",
    "    )\n",
    "\n",
    "    # Volume bar chart\n",
    "    fig_volume = px.bar(df, x='Datetime', y='Volume', title='Trading Volume')\n",
    "    fig_volume.update_layout(\n",
    "        xaxis_title=\"Time\",\n",
    "        yaxis_title=\"Volume\",\n",
    "        plot_bgcolor='white'\n",
    "    )\n",
    "\n",
    "    return fig_price, fig_volume"
   ]
  },
  {
   "cell_type": "code",
   "execution_count": 50,
   "metadata": {},
   "outputs": [
    {
     "data": {
      "text/html": [
       "\n",
       "        <iframe\n",
       "            width=\"100%\"\n",
       "            height=\"650\"\n",
       "            src=\"http://127.0.0.1:8050/\"\n",
       "            frameborder=\"0\"\n",
       "            allowfullscreen\n",
       "            \n",
       "        ></iframe>\n",
       "        "
      ],
      "text/plain": [
       "<IPython.lib.display.IFrame at 0x134f4fb90>"
      ]
     },
     "metadata": {},
     "output_type": "display_data"
    },
    {
     "name": "stderr",
     "output_type": "stream",
     "text": [
      "/opt/miniconda3/lib/python3.12/site-packages/charset_normalizer/api.py:105: UserWarning:\n",
      "\n",
      "Trying to detect encoding from a tiny portion of (23) byte(s).\n",
      "\n",
      "[*********************100%***********************]  1 of 1 completed\n",
      "\n",
      "1 Failed download:\n",
      "['AAPL']: YFRateLimitError('Too Many Requests. Rate limited. Try after a while.')\n",
      "/opt/miniconda3/lib/python3.12/site-packages/charset_normalizer/api.py:105: UserWarning:\n",
      "\n",
      "Trying to detect encoding from a tiny portion of (23) byte(s).\n",
      "\n",
      "[*********************100%***********************]  1 of 1 completed\n",
      "\n",
      "1 Failed download:\n",
      "['AAPL']: YFRateLimitError('Too Many Requests. Rate limited. Try after a while.')\n"
     ]
    }
   ],
   "source": [
    "if __name__ == '__main__':\n",
    "    app.run(debug=True)"
   ]
  },
  {
   "cell_type": "code",
   "execution_count": null,
   "metadata": {},
   "outputs": [],
   "source": []
  },
  {
   "cell_type": "code",
   "execution_count": null,
   "metadata": {},
   "outputs": [],
   "source": []
  },
  {
   "cell_type": "code",
   "execution_count": null,
   "metadata": {},
   "outputs": [],
   "source": []
  },
  {
   "cell_type": "code",
   "execution_count": null,
   "metadata": {},
   "outputs": [],
   "source": []
  },
  {
   "cell_type": "code",
   "execution_count": null,
   "metadata": {},
   "outputs": [],
   "source": []
  }
 ],
 "metadata": {
  "kernelspec": {
   "display_name": "base",
   "language": "python",
   "name": "python3"
  },
  "language_info": {
   "codemirror_mode": {
    "name": "ipython",
    "version": 3
   },
   "file_extension": ".py",
   "mimetype": "text/x-python",
   "name": "python",
   "nbconvert_exporter": "python",
   "pygments_lexer": "ipython3",
   "version": "3.12.2"
  }
 },
 "nbformat": 4,
 "nbformat_minor": 2
}
