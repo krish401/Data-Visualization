{
 "cells": [
  {
   "cell_type": "code",
   "execution_count": 1,
   "metadata": {},
   "outputs": [],
   "source": [
    "import pandas as pd\n",
    "import numpy as np\n",
    "import matplotlib.pyplot as plt\n",
    "import seaborn as sns"
   ]
  },
  {
   "cell_type": "code",
   "execution_count": 13,
   "metadata": {},
   "outputs": [
    {
     "name": "stdout",
     "output_type": "stream",
     "text": [
      "                                               Industry      Month      Sales\n",
      "23    Clothing and clothing accessories retailers  [... 2019-01-01  2406567.0\n",
      "24                               Shoe retailers  [4582] 2019-01-01   357743.0\n",
      "25    Jewellery, luggage and leather goods retailers... 2019-01-01   303657.0\n",
      "53    Clothing and clothing accessories retailers  [... 2019-02-01  2360678.0\n",
      "54                               Shoe retailers  [4582] 2019-02-01   357441.0\n",
      "...                                                 ...        ...        ...\n",
      "2124                             Shoe retailers  [4582] 2024-11-01   413005.0\n",
      "2125  Jewellery, luggage and leather goods retailers... 2024-11-01   411971.0\n",
      "2153  Clothing and clothing accessories retailers  [... 2024-12-01  2891524.0\n",
      "2154                             Shoe retailers  [4582] 2024-12-01   435921.0\n",
      "2155  Jewellery, luggage and leather goods retailers... 2024-12-01   419650.0\n",
      "\n",
      "[216 rows x 3 columns]\n",
      "None\n"
     ]
    }
   ],
   "source": [
    "df = pd.read_csv(\"assignment_5_dat_file.csv\")\n",
    "\n",
    "df_melted = df.melt(id_vars= [\"North American Industry Classification System (NAICS)\"],\n",
    "                    var_name=\"Month\", value_name=\"Sales\"\n",
    "                    )\n",
    "df_melted[\"Sales\"] = df_melted[\"Sales\"].str.replace(\",\", \"\").astype(float)\n",
    "df_melted['Month'] = pd.to_datetime(df_melted[\"Month\"], format=\"%b-%y\")\n",
    "df_melted.rename(columns={\"North American Industry Classification System (NAICS)\": \"Industry\"}, inplace=True)\n",
    "\n",
    "\n",
    "def plot_industry_performance():\n",
    "\n",
    "    industries = [\"Clothing and clothing accessories retailers  [4581]\", \n",
    "                  \"Shoe retailers  [4582]\", \n",
    "                  \"Jewellery, luggage and leather goods retailers  [4583]\"]\n",
    "    \n",
    "    industry_df = df_melted[df_melted[\"Industry\"].isin(industries)]\n",
    "    print(industry_df)\n",
    "\n",
    "\n",
    "    return \n",
    "print(plot_industry_performance())\n"
   ]
  },
  {
   "cell_type": "code",
   "execution_count": null,
   "metadata": {},
   "outputs": [],
   "source": []
  },
  {
   "cell_type": "code",
   "execution_count": null,
   "metadata": {},
   "outputs": [],
   "source": []
  }
 ],
 "metadata": {
  "kernelspec": {
   "display_name": "base",
   "language": "python",
   "name": "python3"
  },
  "language_info": {
   "codemirror_mode": {
    "name": "ipython",
    "version": 3
   },
   "file_extension": ".py",
   "mimetype": "text/x-python",
   "name": "python",
   "nbconvert_exporter": "python",
   "pygments_lexer": "ipython3",
   "version": "3.12.2"
  }
 },
 "nbformat": 4,
 "nbformat_minor": 2
}
