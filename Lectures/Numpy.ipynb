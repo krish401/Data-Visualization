{
 "cells": [
  {
   "cell_type": "markdown",
   "metadata": {},
   "source": [
    "# Intro to Numpy"
   ]
  },
  {
   "cell_type": "markdown",
   "metadata": {},
   "source": [
    "## Arrays have the following properties\n",
    "- homogenos meaning all elements are the same type\n",
    "- fixed shape\n",
    "- mutable"
   ]
  },
  {
   "cell_type": "markdown",
   "metadata": {},
   "source": [
    "## How to import numpy\n",
    "\n",
    "```import numpy as np```"
   ]
  },
  {
   "cell_type": "code",
   "execution_count": 2,
   "metadata": {},
   "outputs": [],
   "source": [
    "import numpy as np"
   ]
  },
  {
   "cell_type": "markdown",
   "metadata": {},
   "source": [
    "### How to create an Array"
   ]
  },
  {
   "cell_type": "code",
   "execution_count": 3,
   "metadata": {},
   "outputs": [
    {
     "data": {
      "text/plain": [
       "array([1, 2, 3, 4, 5])"
      ]
     },
     "execution_count": 3,
     "metadata": {},
     "output_type": "execute_result"
    }
   ],
   "source": [
    "an_array = np.array([1,2,3,4,5])\n",
    "an_array"
   ]
  },
  {
   "cell_type": "code",
   "execution_count": 4,
   "metadata": {},
   "outputs": [
    {
     "data": {
      "text/plain": [
       "array([1, 2, 3, 4])"
      ]
     },
     "execution_count": 4,
     "metadata": {},
     "output_type": "execute_result"
    }
   ],
   "source": [
    "ls = [1,2,3,4]\n",
    "an_array_2 = np.array(ls)\n",
    "an_array_2"
   ]
  },
  {
   "cell_type": "code",
   "execution_count": 5,
   "metadata": {},
   "outputs": [
    {
     "data": {
      "text/plain": [
       "array([1, 2, 3])"
      ]
     },
     "execution_count": 5,
     "metadata": {},
     "output_type": "execute_result"
    }
   ],
   "source": [
    "slice = an_array_2[:3]  # slicing\n",
    "slice"
   ]
  },
  {
   "cell_type": "markdown",
   "metadata": {},
   "source": [
    "### Craeting a 2d array\n",
    "- must be an NxM matrix"
   ]
  },
  {
   "cell_type": "code",
   "execution_count": 6,
   "metadata": {},
   "outputs": [
    {
     "data": {
      "text/plain": [
       "array([[1, 2],\n",
       "       [3, 4],\n",
       "       [5, 6]])"
      ]
     },
     "execution_count": 6,
     "metadata": {},
     "output_type": "execute_result"
    }
   ],
   "source": [
    "arr = np.array([[1,2],[3,4],[5,6]])\n",
    "arr"
   ]
  },
  {
   "cell_type": "markdown",
   "metadata": {},
   "source": [
    "## Working with Array"
   ]
  },
  {
   "cell_type": "code",
   "execution_count": 7,
   "metadata": {},
   "outputs": [
    {
     "data": {
      "text/plain": [
       "array([   1,    2,    3,    4, 1000])"
      ]
     },
     "execution_count": 7,
     "metadata": {},
     "output_type": "execute_result"
    }
   ],
   "source": [
    "def changed(an_array):\n",
    "    an_array[-1] = 1000\n",
    "\n",
    "changed(an_array)\n",
    "an_array"
   ]
  },
  {
   "cell_type": "code",
   "execution_count": 8,
   "metadata": {},
   "outputs": [
    {
     "name": "stdout",
     "output_type": "stream",
     "text": [
      "Mean is 2.5714285714285716\n",
      "ST dev is: 1.3997084244475304\n",
      "(array([2, 2, 1, 1, 1]), array([1. , 1.8, 2.6, 3.4, 4.2, 5. ]))\n"
     ]
    }
   ],
   "source": [
    "# statistical funtions\n",
    "\n",
    "new_arr = np.array([1,2,3,4,5,1,2])\n",
    "arr_average = np.mean(new_arr)\n",
    "print(f'Mean is {arr_average}')\n",
    "\n",
    "st_deviation = np.std(new_arr)\n",
    "print(f'ST dev is: {st_deviation}')\n",
    "\n",
    "hist = np.histogram(new_arr, bins=5)\n",
    "print(hist)"
   ]
  },
  {
   "cell_type": "markdown",
   "metadata": {},
   "source": [
    "## Boolean Indexing\n",
    "create conditions and apply thenm to the array"
   ]
  },
  {
   "cell_type": "code",
   "execution_count": 9,
   "metadata": {},
   "outputs": [
    {
     "name": "stdout",
     "output_type": "stream",
     "text": [
      "[3 4 5]\n",
      "[1 2 2]\n"
     ]
    }
   ],
   "source": [
    "an_array = np.array([1,2,3,4,5,1,2])\n",
    "condition = an_array > 2\n",
    "filtered_array = an_array[condition]\n",
    "print(filtered_array)\n",
    "\n",
    "indexes = [0,1,6]\n",
    "new_arr = an_array[indexes]\n",
    "print(new_arr)"
   ]
  },
  {
   "cell_type": "markdown",
   "metadata": {},
   "source": [
    "## Problem \n",
    "- write a program to create an array of high tempuratures for each day of the month\n",
    "- extract the temp from the first week and calculate its mean and std \n",
    "- display all the temps that are above the mean of the first week \n",
    "- display temp that are one std above and below the mean of the first week"
   ]
  },
  {
   "cell_type": "code",
   "execution_count": 10,
   "metadata": {},
   "outputs": [
    {
     "data": {
      "text/plain": [
       "array([25, 28, 24, 26, 30, 29, 27, 23, 25, 28, 31, 29, 26, 24, 27, 29, 32,\n",
       "       30, 28, 25, 27, 29, 30, 28, 26])"
      ]
     },
     "execution_count": 10,
     "metadata": {},
     "output_type": "execute_result"
    }
   ],
   "source": [
    "temperatures = np.array([25,28,24,26,30,29,27,23,25,28,31,29,26,24,27,29,32,30,28,25,27,29,30,28,26])\n",
    "temperatures"
   ]
  },
  {
   "cell_type": "code",
   "execution_count": 11,
   "metadata": {},
   "outputs": [
    {
     "data": {
      "text/plain": [
       "array([25, 28, 24, 26, 30, 29, 27])"
      ]
     },
     "execution_count": 11,
     "metadata": {},
     "output_type": "execute_result"
    }
   ],
   "source": [
    "first_week = temperatures[:7]\n",
    "first_week"
   ]
  },
  {
   "cell_type": "code",
   "execution_count": 12,
   "metadata": {},
   "outputs": [
    {
     "name": "stdout",
     "output_type": "stream",
     "text": [
      "27.0\n",
      "2.0\n"
     ]
    }
   ],
   "source": [
    "avg = np.average(first_week)\n",
    "print(avg)\n",
    "st_dev = np.std(first_week)\n",
    "print(st_dev)"
   ]
  },
  {
   "cell_type": "code",
   "execution_count": 13,
   "metadata": {},
   "outputs": [
    {
     "name": "stdout",
     "output_type": "stream",
     "text": [
      "temps greater than the avg of first week: [28 30 29 28 31 29 29 32 30 28 29 30 28]\n",
      "[28 26 27 28 26 27 28 27 28 26]\n"
     ]
    }
   ],
   "source": [
    "# display temp > avg\n",
    "\n",
    "condition1 = temperatures > avg\n",
    "\n",
    "greater_than_avg = temperatures[condition1]\n",
    "print(f'temps greater than the avg of first week: {greater_than_avg}')\n",
    "\n",
    "# display mean-std<temp<mean+std\n",
    "\n",
    "condition2 = (temperatures > (avg - st_dev)) & (temperatures < (avg + st_dev))  # should the | ask why\n",
    "both = temperatures[condition2]\n",
    "print(both)"
   ]
  },
  {
   "cell_type": "markdown",
   "metadata": {},
   "source": [
    "## indexing using common for 2D arrays"
   ]
  },
  {
   "cell_type": "code",
   "execution_count": 14,
   "metadata": {},
   "outputs": [
    {
     "name": "stdout",
     "output_type": "stream",
     "text": [
      "4\n",
      "20\n",
      "[[1 2]\n",
      " [5 6]]\n",
      "[[ 6  7]\n",
      " [10 11]\n",
      " [14 15]]\n"
     ]
    }
   ],
   "source": [
    "an_array = np.array([\n",
    "    [1,2,3,4],\n",
    "    [5,6,7,8],\n",
    "    [9,10,11,12],\n",
    "    [12,14,15,16],\n",
    "    [17,18,19,20]\n",
    "])\n",
    "print(an_array[0,3])   # positive indexing\n",
    "print(an_array[-1,-1]) # negative indexing\n",
    "print(an_array[0:2,0:2]) # mix of both slice and indexing\n",
    "print(an_array[1:4,1:3]) # get the box in the middle"
   ]
  },
  {
   "cell_type": "markdown",
   "metadata": {},
   "source": [
    "## Basix Numpy prperties\n",
    "Dim(ndim), Shape(shape), Size(size), Type(dtype)"
   ]
  },
  {
   "cell_type": "code",
   "execution_count": 17,
   "metadata": {},
   "outputs": [
    {
     "name": "stdout",
     "output_type": "stream",
     "text": [
      "dimensions: 1\n",
      "Shape: (2,)\n",
      "length: 2\n",
      "Size: 2\n",
      "Type: float64\n"
     ]
    }
   ],
   "source": [
    "a = np.array([1.1,3.3])\n",
    "\n",
    "\n",
    "print(f'dimensions: {a.ndim}')\n",
    "print(f'Shape: {a.shape}')\n",
    "print(f'length: {len(a)}')\n",
    "print(f'Size: {a.size}')\n",
    "print(f'Type: {a.dtype}')"
   ]
  },
  {
   "cell_type": "code",
   "execution_count": 19,
   "metadata": {},
   "outputs": [
    {
     "name": "stdout",
     "output_type": "stream",
     "text": [
      "dimensions: 2\n",
      "Shape: (3, 4)\n",
      "length: 3\n",
      "Size: 12\n",
      "Type: int64\n"
     ]
    }
   ],
   "source": [
    "b = np.array([[1,2,3,4],[5,6,7,8],[9,10,11,12]])\n",
    "\n",
    "\n",
    "print(f'dimensions: {b.ndim}')\n",
    "print(f'Shape: {b.shape}')\n",
    "print(f'length: {len(b)}')\n",
    "print(f'Size: {b.size}')\n",
    "print(f'Type: {b.dtype}')"
   ]
  },
  {
   "cell_type": "code",
   "execution_count": 22,
   "metadata": {},
   "outputs": [
    {
     "name": "stdout",
     "output_type": "stream",
     "text": [
      "dimensions: 1\n",
      "Shape: (3,)\n",
      "length: 3\n",
      "Size: 3\n",
      "Type: float64\n"
     ]
    }
   ],
   "source": [
    "c= np.array([1,2,5.0])\n",
    "\n",
    "\n",
    "print(f'dimensions: {c.ndim}')\n",
    "print(f'Shape: {c.shape}')\n",
    "print(f'length: {len(c)}')\n",
    "print(f'Size: {c.size}')\n",
    "print(f'Type: {c.dtype}')\n",
    "# This will convert all the ints to a float and fixes our mistake"
   ]
  },
  {
   "cell_type": "code",
   "execution_count": null,
   "metadata": {},
   "outputs": [
    {
     "name": "stdout",
     "output_type": "stream",
     "text": [
      "dimensions: 1\n",
      "Shape: (4,)\n",
      "length: 4\n",
      "Size: 4\n",
      "Type: <U32\n"
     ]
    }
   ],
   "source": [
    "a = np.array([1,2,3.0,'abc'])\n",
    "\n",
    "\n",
    "print(f'dimensions: {a.ndim}')\n",
    "print(f'Shape: {a.shape}')\n",
    "print(f'length: {len(a)}')\n",
    "print(f'Size: {a.size}')\n",
    "print(f'Type: {a.dtype}')\n",
    "'coverts all to string'"
   ]
  },
  {
   "cell_type": "markdown",
   "metadata": {},
   "source": [
    "## Array creation"
   ]
  },
  {
   "cell_type": "code",
   "execution_count": 35,
   "metadata": {},
   "outputs": [
    {
     "name": "stdout",
     "output_type": "stream",
     "text": [
      "[0. 0. 0. 0. 0. 0.]\n",
      "[[0. 0. 0.]\n",
      " [0. 0. 0.]\n",
      " [0. 0. 0.]\n",
      " [0. 0. 0.]\n",
      " [0. 0. 0.]\n",
      " [0. 0. 0.]]\n",
      "[[100 100 100 100 100]\n",
      " [100 100 100 100 100]\n",
      " [100 100 100 100 100]\n",
      " [100 100 100 100 100]\n",
      " [100 100 100 100 100]]\n",
      "[1. 1. 1.]\n",
      "[[1. 0.]\n",
      " [0. 1.]]\n",
      "[1. 1. 1.]\n",
      "[2 4 6 8]\n",
      "[ 2.  6. 10.]\n"
     ]
    }
   ],
   "source": [
    "zeros = np.zeros(6)\n",
    "print(zeros)\n",
    "\n",
    "zeros_2d = np.zeros((6,3))\n",
    "print(zeros_2d)\n",
    "\n",
    "full = np.full((5,5),100)\n",
    "print(full)\n",
    "\n",
    "ones = np.ones(3)\n",
    "print(ones)\n",
    "\n",
    "identity = np.eye(2,2)\n",
    "print(identity)\n",
    "\n",
    "empty = np.empty(3)\n",
    "print(empty)\n",
    "\n",
    "arrange = np.arange(2,10,2)\n",
    "print(arrange)\n",
    "\n",
    "lin = np.linspace(2,10,3)\n",
    "print(lin)"
   ]
  },
  {
   "cell_type": "markdown",
   "metadata": {},
   "source": [
    "## Array manipulation"
   ]
  },
  {
   "cell_type": "code",
   "execution_count": null,
   "metadata": {},
   "outputs": [
    {
     "name": "stdout",
     "output_type": "stream",
     "text": [
      "[1 2 3 4 5 6]\n",
      "[[1]\n",
      " [2]\n",
      " [3]\n",
      " [4]\n",
      " [5]\n",
      " [6]]\n",
      "[[[1]\n",
      "  [2]\n",
      "  [3]\n",
      "  [4]\n",
      "  [5]\n",
      "  [6]]]\n",
      "[[1 2 3]\n",
      " [4 5 6]]\n"
     ]
    }
   ],
   "source": [
    "arr = np.array([1,2,3,4,5,6])\n",
    "print(arr)\n",
    "\n",
    "col_array = arr[:, np.newaxis] # coverts the row to a column\n",
    "print(col_array)\n",
    "\n",
    "row_array = col_array[np.newaxis,:]\n",
    "print(row_array)\n",
    "\n",
    "a_2d_array = arr.reshape(2,3)\n",
    "print(a_2d_array)\n"
   ]
  },
  {
   "cell_type": "code",
   "execution_count": 45,
   "metadata": {},
   "outputs": [
    {
     "name": "stdout",
     "output_type": "stream",
     "text": [
      "[0 0 0 0 0]\n"
     ]
    }
   ],
   "source": [
    "zeros = np.zeros(5,dtype = np.int64)\n",
    "print(zeros)"
   ]
  },
  {
   "cell_type": "markdown",
   "metadata": {},
   "source": [
    "## Cancatation"
   ]
  },
  {
   "cell_type": "code",
   "execution_count": 64,
   "metadata": {},
   "outputs": [
    {
     "name": "stdout",
     "output_type": "stream",
     "text": [
      "[[0. 0. 0.]\n",
      " [0. 0. 0.]\n",
      " [0. 0. 0.]]\n",
      "[[1. 1. 1.]]\n",
      "[[0. 0. 0.]\n",
      " [0. 0. 0.]\n",
      " [0. 0. 0.]\n",
      " [1. 1. 1.]]\n",
      "[[ 40.   0.   0.   0.]\n",
      " [ 80.   0.   0.   0.]\n",
      " [120.   0.   0.   0.]]\n"
     ]
    }
   ],
   "source": [
    "a= np.zeros((3,3))\n",
    "print(a)\n",
    "b= np.ones((1,3))\n",
    "print(b)\n",
    "concat = np.concatenate((a,b), axis=0)\n",
    "print(concat)\n",
    "c = np.array([[40], [80], [120]])\n",
    "concat_2 = np.concatenate((c,a), axis=1)\n",
    "print(concat_2)\n",
    "\n",
    "\n"
   ]
  },
  {
   "cell_type": "code",
   "execution_count": 59,
   "metadata": {},
   "outputs": [
    {
     "name": "stdout",
     "output_type": "stream",
     "text": [
      "[ 1  2  3  4  5  6  7  8  9 10 11 12 13 14 15 16 17 18 19 20]\n",
      "[[ 1  2  3  4]\n",
      " [ 5  6  7  8]\n",
      " [ 9 10 11 12]\n",
      " [13 14 15 16]\n",
      " [17 18 19 20]]\n",
      "[[0. 0. 0. 0.]\n",
      " [0. 0. 0. 0.]\n",
      " [0. 0. 0. 0.]\n",
      " [0. 0. 0. 0.]\n",
      " [0. 0. 0. 0.]]\n",
      "[[-1.  0.  0. -1.]\n",
      " [ 0.  0.  0.  0.]\n",
      " [ 0.  0.  0.  0.]\n",
      " [ 0.  0.  0.  0.]\n",
      " [ 0.  0.  0.  0.]]\n"
     ]
    }
   ],
   "source": [
    "\n",
    "'''\n",
    "Write a program that generates an 1D array of 20 numbers corresponding to seats in a class room\n",
    "Reshape the array to 5 rows and 4 columns\n",
    "Generate a reservation chart showing 0 (unreserved) for all seats except the 1st seat and the last seat in the first row. the\n",
    "reserved seats are marked -1.\n",
    "Sample Output:\n",
    "Seat numbers:\n",
    " [ 1  2  3  4  5  6  7  8  9 10 11 12 13 14 15 16 17 18 19 20]\n",
    "\n",
    "Seating chart:\n",
    " [[ 1  2  3  4]\n",
    " [ 5  6  7  8]\n",
    " [ 9 10 11 12]\n",
    " [13 14 15 16]\n",
    " [17 18 19 20]]\n",
    "\n",
    "Shape of seating chart: (5, 4)\n",
    "\n",
    "Reservation chart:\n",
    " [[0. 0. 0. 0.]\n",
    " [0. 0. 0. 0.]\n",
    " [0. 0. 0. 0.]\n",
    " [0. 0. 0. 0.]\n",
    " [0. 0. 0. 0.]]\n",
    "\n",
    "Reservation chart:\n",
    " [[-1.  0.  0. -1.]\n",
    " [ 0.  0.  0.  0.]\n",
    " [ 0.  0.  0.  0.]\n",
    " [ 0.  0.  0.  0.]\n",
    " [ 0.  0.  0.  0.]]\n",
    "'''\n",
    "\n",
    "\n",
    "seating = np.arange(1,21)\n",
    "print(seating)\n",
    "\n",
    "map_seating = seating.reshape(5,4)\n",
    "print(map_seating)\n",
    "\n",
    "reserve = np.zeros((5,4))\n",
    "print(reserve)\n",
    "\n",
    "reserve[0,[0,-1]] = -1\n",
    "print(reserve)\n",
    "\n",
    "\n",
    "\n"
   ]
  },
  {
   "cell_type": "code",
   "execution_count": 65,
   "metadata": {},
   "outputs": [
    {
     "data": {
      "text/plain": [
       "'\\nWrite code to take number of athletes participating in an event and the number of rounds they play. For example, \\nThere may be 3 participants in shot put event and each participant has 4 rounds. \\nGenerate a matrix with rows corresponding to participants and columns corresponding to rounds.\\nWrite a function to enter values into the array. \\nWrite function to find max for each round. \\n\\ndef main ():\\n    athletes = int(input(\"Enter number of participants: \"))\\n    rounds = int(input(\"Enter number of rounds: \"))\\n\\n    data = np.zeros((athletes, rounds))\\n    entervalues(data, athletes, rounds)\\n    print(data)\\n    analyze_each_round(data, rounds)\\nmain()\\n\\nSample Output:\\nEnter number of participants:  3\\nEnter number of rounds:  2\\nEnter data for athlete 1, round 1  10\\nEnter data for athlete 2, round 1  9\\nEnter data for athlete 3, round 1  5\\nEnter data for athlete 1, round 2  5\\nEnter data for athlete 2, round 2  6\\nEnter data for athlete 3, round 2  8\\n\\n[[10.  5.]\\n [ 9.  6.]\\n [ 5.  8.]]\\nRound 1 highest is: 10.0\\nRound 2 highest is: 8.0\\n\\n'"
      ]
     },
     "execution_count": 65,
     "metadata": {},
     "output_type": "execute_result"
    }
   ],
   "source": [
    "'''\n",
    "Write code to take number of athletes participating in an event and the number of rounds they play. For example, \n",
    "There may be 3 participants in shot put event and each participant has 4 rounds. \n",
    "Generate a matrix with rows corresponding to participants and columns corresponding to rounds.\n",
    "Write a function to enter values into the array. \n",
    "Write function to find max for each round. \n",
    "\n",
    "def main ():\n",
    "    athletes = int(input(\"Enter number of participants: \"))\n",
    "    rounds = int(input(\"Enter number of rounds: \"))\n",
    "\n",
    "    data = np.zeros((athletes, rounds))\n",
    "    entervalues(data, athletes, rounds)\n",
    "    print(data)\n",
    "    analyze_each_round(data, rounds)\n",
    "main()\n",
    "\n",
    "Sample Output:\n",
    "Enter number of participants:  3\n",
    "Enter number of rounds:  2\n",
    "Enter data for athlete 1, round 1  10\n",
    "Enter data for athlete 2, round 1  9\n",
    "Enter data for athlete 3, round 1  5\n",
    "Enter data for athlete 1, round 2  5\n",
    "Enter data for athlete 2, round 2  6\n",
    "Enter data for athlete 3, round 2  8\n",
    "\n",
    "[[10.  5.]\n",
    " [ 9.  6.]\n",
    " [ 5.  8.]]\n",
    "Round 1 highest is: 10.0\n",
    "Round 2 highest is: 8.0\n",
    "\n",
    "'''"
   ]
  },
  {
   "cell_type": "code",
   "execution_count": null,
   "metadata": {},
   "outputs": [
    {
     "ename": "ValueError",
     "evalue": "invalid literal for int() with base 10: ''",
     "output_type": "error",
     "traceback": [
      "\u001b[0;31m---------------------------------------------------------------------------\u001b[0m",
      "\u001b[0;31mValueError\u001b[0m                                Traceback (most recent call last)",
      "Cell \u001b[0;32mIn[81], line 19\u001b[0m\n\u001b[1;32m     17\u001b[0m     \u001b[38;5;28mprint\u001b[39m(data)\n\u001b[1;32m     18\u001b[0m     analyze_each_round(data, rounds)\n\u001b[0;32m---> 19\u001b[0m \u001b[43mmain\u001b[49m\u001b[43m(\u001b[49m\u001b[43m)\u001b[49m\n",
      "Cell \u001b[0;32mIn[81], line 12\u001b[0m, in \u001b[0;36mmain\u001b[0;34m()\u001b[0m\n\u001b[1;32m     11\u001b[0m \u001b[38;5;28;01mdef\u001b[39;00m\u001b[38;5;250m \u001b[39m\u001b[38;5;21mmain\u001b[39m ():\n\u001b[0;32m---> 12\u001b[0m     athletes \u001b[38;5;241m=\u001b[39m \u001b[38;5;28;43mint\u001b[39;49m\u001b[43m(\u001b[49m\u001b[38;5;28;43minput\u001b[39;49m\u001b[43m(\u001b[49m\u001b[38;5;124;43m\"\u001b[39;49m\u001b[38;5;124;43mEnter number of participants: \u001b[39;49m\u001b[38;5;124;43m\"\u001b[39;49m\u001b[43m)\u001b[49m\u001b[43m)\u001b[49m\n\u001b[1;32m     13\u001b[0m     rounds \u001b[38;5;241m=\u001b[39m \u001b[38;5;28mint\u001b[39m(\u001b[38;5;28minput\u001b[39m(\u001b[38;5;124m\"\u001b[39m\u001b[38;5;124mEnter number of rounds: \u001b[39m\u001b[38;5;124m\"\u001b[39m))\n\u001b[1;32m     15\u001b[0m     data \u001b[38;5;241m=\u001b[39m np\u001b[38;5;241m.\u001b[39mzeros((athletes, rounds))\n",
      "\u001b[0;31mValueError\u001b[0m: invalid literal for int() with base 10: ''"
     ]
    }
   ],
   "source": [
    "def entervalues(data, rows, cols):\n",
    "    for c in range(cols):\n",
    "        for r in range(rows):\n",
    "            data[r,c] = int(input(f'Enter data for athlete {r+1}, round {c+1} '))\n",
    "\n",
    "def analyze_each_round(data, rounds):\n",
    "    for r in range(rounds):\n",
    "        column_data = data[:, r]\n",
    "        print(f'Round {r+1} highest is: {max(column_data)}')\n",
    "\n",
    "\n",
    "\n",
    "def main():\n",
    "    athletes = int(input(\"enter number od participants: \"))\n",
    "    rounds = int(input(\"enter number of rounds: \"))\n",
    "\n",
    "    data = np.zeros((athletes,rounds))\n",
    "    entervalues(data, athletes, rounds)\n",
    "    print(data)\n",
    "    analyze_each_round(data, rounds)\n",
    "main()"
   ]
  },
  {
   "cell_type": "markdown",
   "metadata": {},
   "source": [
    "## Sorting"
   ]
  },
  {
   "cell_type": "code",
   "execution_count": 69,
   "metadata": {},
   "outputs": [
    {
     "name": "stdout",
     "output_type": "stream",
     "text": [
      "[  2   4   6   8   9  12  30  70 100 100 110 500]\n",
      "[[100   2  30]\n",
      " [  4 500   6]\n",
      " [ 70   8   9]\n",
      " [100 110  12]]\n",
      "[[  2  30 100]\n",
      " [  4   6 500]\n",
      " [  8   9  70]\n",
      " [ 12 100 110]]\n"
     ]
    }
   ],
   "source": [
    "arr = np.array([100,2,30,4,500,6,70,8,9,100,110,12])\n",
    "sorted_array = np.sort(arr)\n",
    "print(sorted_array)\n",
    "\n",
    "arr = arr.reshape((4,3))\n",
    "print(arr)\n",
    "\n",
    "sorted_array = np.sort(arr)\n",
    "print(sorted_array)\n"
   ]
  },
  {
   "cell_type": "code",
   "execution_count": null,
   "metadata": {},
   "outputs": [
    {
     "name": "stdout",
     "output_type": "stream",
     "text": [
      "[100   2  30   4 500   6  70   8   9 100 110  12]\n",
      "\n",
      "[[100   2  30]\n",
      " [  4 500   6]\n",
      " [ 70   8   9]\n",
      " [100 110  12]]\n",
      "\n",
      "[[100 500   9]\n",
      " [  2   6 100]\n",
      " [ 30  70 110]\n",
      " [  4   8  12]]\n"
     ]
    }
   ],
   "source": [
    "arr = np.array([100,2,30,4,500,6,70,8,9,100,110,12])\n",
    "print(arr)\n",
    "print()\n",
    "c_style = np.reshape(arr, (4,3), order = 'C')  # first 3 is the row\n",
    "print(c_style)\n",
    "f_style = np.reshape(arr, (4,3), order='F') # the first 4 are column\n",
    "print()\n",
    "print(f_style)"
   ]
  },
  {
   "cell_type": "markdown",
   "metadata": {},
   "source": [
    "## Filtering 2D arrays"
   ]
  },
  {
   "cell_type": "code",
   "execution_count": 80,
   "metadata": {},
   "outputs": [
    {
     "name": "stdout",
     "output_type": "stream",
     "text": [
      "[ 8  9 10 11]\n",
      "[ 2  4  6  8 10 12]\n",
      "[ 9 11]\n",
      "[[ 5  6  7  8]\n",
      " [ 9 10 11 12]]\n",
      "[[ 3  4]\n",
      " [ 7  8]\n",
      " [11 12]]\n"
     ]
    }
   ],
   "source": [
    "a = np.array([[1 , 2, 3, 4], [5, 6, 7, 8], [9, 10, 11, 12]])\n",
    "\n",
    "condition = (a>7) & (a<12)\n",
    "print(a[condition])\n",
    "\n",
    "condition_2 = a%2==0\n",
    "print(a[condition_2])\n",
    "\n",
    "condition_3 = (a%2==1) & (a>8)\n",
    "print(a[condition_3])\n",
    "\n",
    "condition_4 = a[a[:,0] >4]  #Rows with first value greater than 4\n",
    "print(condition_4)\n",
    "\n",
    "condition_5 = a[:, a[0,:] > 2]\n",
    "print(condition_5)"
   ]
  },
  {
   "cell_type": "markdown",
   "metadata": {},
   "source": [
    "## Array Stacking"
   ]
  },
  {
   "cell_type": "code",
   "execution_count": 89,
   "metadata": {},
   "outputs": [
    {
     "name": "stdout",
     "output_type": "stream",
     "text": [
      "[[1 1]\n",
      " [2 2]\n",
      " [3 3]\n",
      " [4 4]\n",
      " [3 3]\n",
      " [4 4]\n",
      " [0 0]]\n",
      "[[1 1 3 3 3 3 6]\n",
      " [2 2 4 4 4 4 6]]\n"
     ]
    }
   ],
   "source": [
    "a1 = np.array([[1,1],[2,2]])\n",
    "\n",
    "a2 = np.array([[3, 3],\n",
    "               [4, 4]])\n",
    "\n",
    "a3 = np.array([[3, 3],\n",
    "               [4, 4],\n",
    "               [0, 0]])\n",
    "\n",
    "a4 = np.array([[3, 3, 6],\n",
    "               [4, 4, 6]])\n",
    "\n",
    "stacked = np.vstack((a1,a2,a3))\n",
    "print(stacked)\n",
    "\n",
    "stacked = np.hstack((a1,a2,a4))\n",
    "print(stacked)"
   ]
  },
  {
   "cell_type": "code",
   "execution_count": 104,
   "metadata": {},
   "outputs": [
    {
     "name": "stdout",
     "output_type": "stream",
     "text": [
      "[[78 85 92 65 88 72 95]\n",
      " [80 88 76 90 82 70 93]\n",
      " [50 60 76 80 82 70 93]]\n",
      "[82.14285714 82.71428571 73.        ]\n",
      "[82.14 82.71 73.  ]\n",
      "[[78.   85.   92.   65.   88.   72.   95.   82.14]\n",
      " [80.   88.   76.   90.   82.   70.   93.   82.71]\n",
      " [50.   60.   76.   80.   82.   70.   93.   73.  ]]\n",
      "[69.33333333 77.66666667 81.33333333 78.33333333 84.         70.66666667\n",
      " 93.66666667 79.28333333]\n",
      "[69.33 77.67 81.33 78.33 84.   70.67 93.67 79.28]\n",
      "[[78.   85.   92.   65.   88.   72.   95.   82.14]\n",
      " [80.   88.   76.   90.   82.   70.   93.   82.71]\n",
      " [50.   60.   76.   80.   82.   70.   93.   73.  ]\n",
      " [69.33 77.67 81.33 78.33 84.   70.67 93.67 79.28]]\n"
     ]
    }
   ],
   "source": [
    "'''\n",
    "Given the result of 7 quizzes for three sections of a course. Combine the arrays into a 2d\n",
    "array and find mean of all the quizzes and mean of each class and stack them to the data. \n",
    "\n",
    "a = np.mean(arr, axis=x)\n",
    "arr = np.round(arr, 2)\n",
    "arr = np.column_stack((arr, arr_1d))\n",
    "'''\n",
    "\n",
    "\n",
    "class_a = np.array([78, 85, 92, 65, 88, 72, 95])\n",
    "class_b = np.array([80, 88, 76, 90, 82, 70, 93])\n",
    "class_c = np.array([50, 60, 76, 80, 82, 70, 93])\n",
    "\n",
    "grades = np.vstack((class_a,class_b,class_c))\n",
    "print(grades)\n",
    "\n",
    "means = np.mean(grades,axis=1)\n",
    "print(means)\n",
    "means = np.round(means,2)\n",
    "print(means)\n",
    "grades = np.column_stack((grades,means))\n",
    "print(grades)\n",
    "\n",
    "means = np.mean(grades, axis =0)\n",
    "print(means)\n",
    "means = np.round(means,2)\n",
    "print(means)\n",
    "grades = np.vstack((grades,means))\n",
    "print(grades)"
   ]
  },
  {
   "cell_type": "code",
   "execution_count": 107,
   "metadata": {},
   "outputs": [
    {
     "name": "stdout",
     "output_type": "stream",
     "text": [
      "[[ 0  1  2  3  4  5  6  7  8]\n",
      " [ 9 10 11 12 13 14 15 16 17]\n",
      " [18 19 20 21 22 23 24 25 26]]\n",
      "[[ 0  1  2]\n",
      " [ 9 10 11]\n",
      " [18 19 20]]\n",
      "[[ 3  4  5]\n",
      " [12 13 14]\n",
      " [21 22 23]]\n",
      "[[ 6  7  8]\n",
      " [15 16 17]\n",
      " [24 25 26]]\n"
     ]
    }
   ],
   "source": [
    "arr= np.arange(0,27).reshape(3,9)\n",
    "print(arr)\n",
    "\n",
    "a,b,c = np.hsplit(arr,3)\n",
    "print(a)\n",
    "print(b)\n",
    "print(c)"
   ]
  },
  {
   "cell_type": "code",
   "execution_count": 108,
   "metadata": {},
   "outputs": [
    {
     "name": "stdout",
     "output_type": "stream",
     "text": [
      "[[ 1  2  3  4]\n",
      " [ 5  6  7  8]\n",
      " [ 9 10 11 12]]\n",
      "[ 1  2  3  4  5  6  7  8  9 10 11 12]\n"
     ]
    }
   ],
   "source": [
    "arr =np.array([[1, 2, 3, 4], [5, 6, 7, 8], [9, 10, 11, 12]])\n",
    "flattened = arr.ravel()\n",
    "print(arr)\n",
    "print(flattened)"
   ]
  },
  {
   "cell_type": "markdown",
   "metadata": {},
   "source": [
    "## Arithmatic Operations and Summary stats for 2D arrays\n"
   ]
  },
  {
   "cell_type": "code",
   "execution_count": 120,
   "metadata": {},
   "outputs": [
    {
     "name": "stdout",
     "output_type": "stream",
     "text": [
      "[[1 1]\n",
      " [2 2]]\n",
      "[[3 3]\n",
      " [4 4]]\n",
      "[[4 4]\n",
      " [6 6]]\n",
      "[[-2 -2]\n",
      " [-2 -2]]\n",
      "[[3 3]\n",
      " [8 8]]\n",
      "[[0.33333333 0.33333333]\n",
      " [0.5        0.5       ]]\n",
      "6\n",
      "4\n",
      "3\n",
      "[3 3]\n",
      "[2 4]\n",
      "1\n",
      "[[2 2]\n",
      " [4 4]]\n"
     ]
    }
   ],
   "source": [
    "a1 = np.array([[1, 1],\n",
    "               [2, 2]])\n",
    "\n",
    "a2 = np.array([[3, 3],\n",
    "               [4, 4]])\n",
    "print(a1)\n",
    "print(a2)\n",
    "\n",
    "res1 = a1+a2\n",
    "print(res1)\n",
    "\n",
    "res2 = a1-a2\n",
    "print(res2)\n",
    "\n",
    "res3 = a1*a2\n",
    "print(res3)\n",
    "\n",
    "res4 = a1/a2\n",
    "print(res4)\n",
    "\n",
    "print(a1.sum())\n",
    "print(a1[1,:].sum())\n",
    "print(a1[:,0].sum())\n",
    "print(a1.sum(axis=0))\n",
    "print(a1.sum(axis=1))\n",
    "print(a1.min())\n",
    "\n",
    "print(a1 *2)\n"
   ]
  },
  {
   "cell_type": "markdown",
   "metadata": {},
   "source": [
    "## Broadcasting"
   ]
  },
  {
   "cell_type": "code",
   "execution_count": 122,
   "metadata": {},
   "outputs": [
    {
     "name": "stdout",
     "output_type": "stream",
     "text": [
      "[[11 22 33]\n",
      " [14 25 36]]\n",
      "[[ 10  40  90]\n",
      " [ 40 100 180]]\n",
      "[[0.1  0.1  0.1 ]\n",
      " [0.4  0.25 0.2 ]]\n",
      "[[0 0 0]\n",
      " [2 0 0]]\n"
     ]
    }
   ],
   "source": [
    "a = np.array([[1, 2, 3],\n",
    "              [4, 5, 6]])\n",
    "\n",
    "b = np.array([10, 20, 30])\n",
    "\n",
    "c = a + b\n",
    "print(c)\n",
    "c = a*b\n",
    "print(c)\n",
    "c= a/b\n",
    "print(c)\n",
    "c= b%a\n",
    "print(c)"
   ]
  },
  {
   "cell_type": "markdown",
   "metadata": {},
   "source": [
    "## Matrix Operations:\n"
   ]
  },
  {
   "cell_type": "code",
   "execution_count": 125,
   "metadata": {},
   "outputs": [
    {
     "name": "stdout",
     "output_type": "stream",
     "text": [
      "[[10 10 10]\n",
      " [10 10 10]\n",
      " [10 10 10]]\n",
      "[[ 30  24  18]\n",
      " [ 84  69  54]\n",
      " [138 114  90]]\n",
      "[[1 4 7]\n",
      " [2 5 8]\n",
      " [3 6 9]]\n"
     ]
    }
   ],
   "source": [
    "matrix1 = np.array([[1, 2, 3], [4, 5, 6], [7, 8, 9]])\n",
    "matrix2 = np.array([[9, 8, 7], [6, 5, 4], [3, 2, 1]])\n",
    "\n",
    "print(np.add(matrix1,matrix2))\n",
    "print(np.dot(matrix1,matrix2))\n",
    "print(np.transpose(matrix1))"
   ]
  },
  {
   "cell_type": "code",
   "execution_count": 132,
   "metadata": {},
   "outputs": [
    {
     "name": "stdout",
     "output_type": "stream",
     "text": [
      "[[15.  24.   0. ]\n",
      " [12.  21.6  0. ]\n",
      " [20.  30.  18. ]]\n",
      "[[135.  176.  100. ]\n",
      " [108.  158.4  80. ]\n",
      " [180.  220.  102. ]]\n"
     ]
    }
   ],
   "source": [
    "'''\n",
    "You're analyzing the sales data for a clothing store. You have the prices for each item \n",
    "(shirts, pants, shoes) in a 2D array, and you want to apply different discount rates to each item category.\n",
    "Column 1 has shirt prices, column 2 has pant prices and column 3 has shoe prices.\n",
    "You need to apply a discount of 10%, 12%, and 15% for shirts, pants and shoes respectively. \n",
    "\n",
    "We want to apply discounts but only to items that are greater than 100 in price\n",
    "\n",
    "prices = np.array([[150, 200, 100],\n",
    "                    [120, 180, 80],\n",
    "                    [200, 250, 120]])\n",
    "'''\n",
    "prices = np.array([[150, 200, 100],\n",
    "                    [120, 180, 80],\n",
    "                    [200, 250, 120]])\n",
    "\n",
    "discounts= np.array([.1,.12,.15])\n",
    "condition = prices >100\n",
    "discount_map = np.where(condition, prices*discounts, 0)\n",
    "print(discount_map)\n",
    "\n",
    "prices = prices - discount_map\n",
    "print(prices)"
   ]
  },
  {
   "cell_type": "code",
   "execution_count": null,
   "metadata": {},
   "outputs": [],
   "source": []
  }
 ],
 "metadata": {
  "kernelspec": {
   "display_name": "base",
   "language": "python",
   "name": "python3"
  },
  "language_info": {
   "codemirror_mode": {
    "name": "ipython",
    "version": 3
   },
   "file_extension": ".py",
   "mimetype": "text/x-python",
   "name": "python",
   "nbconvert_exporter": "python",
   "pygments_lexer": "ipython3",
   "version": "3.12.2"
  }
 },
 "nbformat": 4,
 "nbformat_minor": 2
}
