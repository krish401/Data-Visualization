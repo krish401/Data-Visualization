{
 "cells": [
  {
   "cell_type": "code",
   "execution_count": 1,
   "id": "c2b354a6-c70e-4b2e-b37c-b072988deee5",
   "metadata": {},
   "outputs": [
    {
     "data": {
      "text/html": [
       "\n",
       "        <iframe\n",
       "            width=\"100%\"\n",
       "            height=\"650\"\n",
       "            src=\"http://127.0.0.1:8050/\"\n",
       "            frameborder=\"0\"\n",
       "            allowfullscreen\n",
       "            \n",
       "        ></iframe>\n",
       "        "
      ],
      "text/plain": [
       "<IPython.lib.display.IFrame at 0x12ff6d010>"
      ]
     },
     "metadata": {},
     "output_type": "display_data"
    }
   ],
   "source": [
    "import dash\n",
    "from dash import dcc, html\n",
    "import plotly.express as px\n",
    "import pandas as pd\n",
    "\n",
    "state_data = pd.DataFrame({\n",
    "    \"state\": [\"CA\", \"TX\", \"NY\", \"FL\", \"IL\"],\n",
    "    \"value\": [100, 200, 150, 180, 120]\n",
    "})\n",
    "\n",
    "fig = px.choropleth(\n",
    "    state_data,\n",
    "    locations=\"state\",\n",
    "    locationmode=\"USA-states\",\n",
    "    color=\"value\",\n",
    "    color_continuous_scale=\"Viridis\",\n",
    "    scope=\"usa\",\n",
    "    title=\"Choropleth Map\"\n",
    ")\n",
    "\n",
    "app = dash.Dash()\n",
    "app.layout = html.Div([\n",
    "    html.H1(\"Choropleth Map\"),\n",
    "    dcc.Graph(figure=fig)\n",
    "])\n",
    "\n",
    "app.run(debug=True)\n"
   ]
  },
  {
   "cell_type": "code",
   "execution_count": 2,
   "id": "946e0926-7889-4c6c-9d32-8466947b6493",
   "metadata": {},
   "outputs": [
    {
     "data": {
      "text/html": [
       "\n",
       "        <iframe\n",
       "            width=\"100%\"\n",
       "            height=\"650\"\n",
       "            src=\"http://127.0.0.1:8050/\"\n",
       "            frameborder=\"0\"\n",
       "            allowfullscreen\n",
       "            \n",
       "        ></iframe>\n",
       "        "
      ],
      "text/plain": [
       "<IPython.lib.display.IFrame at 0x1304bd070>"
      ]
     },
     "metadata": {},
     "output_type": "display_data"
    }
   ],
   "source": [
    "import dash\n",
    "from dash import dcc, html\n",
    "import plotly.express as px\n",
    "import pandas as pd\n",
    "\n",
    "country_data = pd.DataFrame({\n",
    "    \"country\": [\"ZWE\", \"CAN\", \"MEX\", \"BRA\", \"AUS\", \"ALB\"],\n",
    "    \"value\": [100, 200, 150, 180, 220, 120]\n",
    "})\n",
    "\n",
    "fig = px.choropleth(\n",
    "    country_data,\n",
    "    locations=\"country\",\n",
    "    locationmode=\"ISO-3\",\n",
    "    color=\"value\",\n",
    "    color_continuous_scale=\"Viridis\",\n",
    "    scope=\"world\",\n",
    "    title=\"Choropleth\"\n",
    ")\n",
    "\n",
    "app = dash.Dash()\n",
    "app.layout = html.Div([\n",
    "    html.H1(\"Choropleth Map\"),\n",
    "    dcc.Graph(figure=fig)\n",
    "])\n",
    "\n",
    "app.run(debug=True)\n"
   ]
  },
  {
   "cell_type": "code",
   "execution_count": 8,
   "id": "8475867f-8a61-4752-81d7-ae9d6286323b",
   "metadata": {},
   "outputs": [
    {
     "data": {
      "text/html": [
       "\n",
       "        <iframe\n",
       "            width=\"100%\"\n",
       "            height=\"650\"\n",
       "            src=\"http://127.0.0.1:8050/\"\n",
       "            frameborder=\"0\"\n",
       "            allowfullscreen\n",
       "            \n",
       "        ></iframe>\n",
       "        "
      ],
      "text/plain": [
       "<IPython.lib.display.IFrame at 0x130851fa0>"
      ]
     },
     "metadata": {},
     "output_type": "display_data"
    }
   ],
   "source": [
    "import dash\n",
    "from dash import dcc, html\n",
    "import plotly.express as px\n",
    "import pandas as pd\n",
    "import json\n",
    "\n",
    "with open(\"Data/africa.json\") as f:\n",
    "    geojson_data = json.load(f)\n",
    "\n",
    "region_data = pd.DataFrame({\n",
    "    \"region\": [\"Algeria\", \"Botswana\", \"Nigeria\", \"Egypt\"],\n",
    "    \"value\": [10, 20, 30, 40]\n",
    "})\n",
    "\n",
    "fig = px.choropleth(\n",
    "    region_data,\n",
    "    geojson=geojson_data,\n",
    "    locations=\"region\",\n",
    "    featureidkey=\"properties.name\",\n",
    "    color=\"value\",\n",
    "    color_continuous_scale=\"Viridis\",\n",
    "    title=\"Choropleth\"\n",
    ")\n",
    "fig.update_geos(showcountries=True, showcoastlines=True, showland=True, fitbounds=\"geojson\")\n",
    "\n",
    "app = dash.Dash()\n",
    "app.layout = html.Div([\n",
    "    html.H1(\"Choropleth Map\"),\n",
    "    dcc.Graph(figure=fig)\n",
    "])\n",
    "app.run(debug=True)\n"
   ]
  },
  {
   "cell_type": "code",
   "execution_count": 6,
   "id": "11562edd-22db-4536-85de-4bf999764120",
   "metadata": {},
   "outputs": [
    {
     "data": {
      "text/html": [
       "\n",
       "        <iframe\n",
       "            width=\"100%\"\n",
       "            height=\"650\"\n",
       "            src=\"http://127.0.0.1:8050/\"\n",
       "            frameborder=\"0\"\n",
       "            allowfullscreen\n",
       "            \n",
       "        ></iframe>\n",
       "        "
      ],
      "text/plain": [
       "<IPython.lib.display.IFrame at 0x1308e6c30>"
      ]
     },
     "metadata": {},
     "output_type": "display_data"
    }
   ],
   "source": [
    "import dash\n",
    "from dash import dcc, html\n",
    "import plotly.express as px\n",
    "import plotly.graph_objects as go\n",
    "import pandas as pd\n",
    "import json\n",
    "\n",
    "with open(\"Data/africa.json\") as f:\n",
    "    geojson_data = json.load(f)\n",
    "\n",
    "region_data = pd.DataFrame({\n",
    "    \"region\": [\"Algeria\", \"Botswana\", \"Nigeria\", \"Egypt\"],\n",
    "    \"value\": [10, 20, 30, 40],\n",
    "    \"lon\": [8.621624, 22.624257, 9.065012, 36.888584],\n",
    "    \"lat\": [36.941797, -26.111408, 12.844306, 21.999508]\n",
    "})\n",
    "\n",
    "fig = px.choropleth(\n",
    "    region_data,\n",
    "    geojson=geojson_data,\n",
    "    locations=\"region\",\n",
    "    featureidkey=\"properties.name\",\n",
    "    color=\"value\",\n",
    "    color_continuous_scale=\"Viridis\",\n",
    "    title=\"Choropleth\"\n",
    ")\n",
    "fig.update_geos(showcountries=True, showcoastlines=True, showland=True, fitbounds=\"geojson\")\n",
    " \n",
    "\n",
    "lines = [\n",
    "    go.Scattergeo(\n",
    "        lon=[region_data.loc[0, \"lon\"], region_data.loc[2, \"lon\"]],\n",
    "        lat=[region_data.loc[0, \"lat\"], region_data.loc[2, \"lat\"]],\n",
    "        mode=\"lines\",\n",
    "        line=dict(width=2, color=\"red\"),\n",
    "        name=\"Algeria to Nigeria\"\n",
    "    ),\n",
    "    go.Scattergeo(\n",
    "        lon=[region_data.loc[1, \"lon\"], region_data.loc[3, \"lon\"]],\n",
    "        lat=[region_data.loc[1, \"lat\"], region_data.loc[3, \"lat\"]],\n",
    "        mode=\"lines\",\n",
    "        line=dict(width=2, color=\"blue\"),\n",
    "        name=\"Botswana to Egypt\"\n",
    "    )\n",
    "]\n",
    "\n",
    "for line in lines:\n",
    "    fig.add_trace(line)\n",
    "\n",
    "app = dash.Dash()\n",
    "app.layout = html.Div([\n",
    "    html.H1(\"Choropleth Map\"),\n",
    "    dcc.Graph(figure=fig)\n",
    "])\n",
    "\n",
    "app.run(debug=True)\n"
   ]
  },
  {
   "cell_type": "code",
   "execution_count": null,
   "id": "e2b5787c-2d01-4155-a38d-6d3acb2433f1",
   "metadata": {},
   "outputs": [],
   "source": []
  },
  {
   "cell_type": "code",
   "execution_count": null,
   "id": "94d73e65",
   "metadata": {},
   "outputs": [],
   "source": []
  },
  {
   "cell_type": "code",
   "execution_count": null,
   "id": "564f4c1d",
   "metadata": {},
   "outputs": [],
   "source": []
  }
 ],
 "metadata": {
  "kernelspec": {
   "display_name": "base",
   "language": "python",
   "name": "python3"
  },
  "language_info": {
   "codemirror_mode": {
    "name": "ipython",
    "version": 3
   },
   "file_extension": ".py",
   "mimetype": "text/x-python",
   "name": "python",
   "nbconvert_exporter": "python",
   "pygments_lexer": "ipython3",
   "version": "3.12.2"
  }
 },
 "nbformat": 4,
 "nbformat_minor": 5
}
